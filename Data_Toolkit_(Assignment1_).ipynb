{
  "nbformat": 4,
  "nbformat_minor": 0,
  "metadata": {
    "colab": {
      "provenance": []
    },
    "kernelspec": {
      "name": "python3",
      "display_name": "Python 3"
    },
    "language_info": {
      "name": "python"
    }
  },
  "cells": [
    {
      "cell_type": "markdown",
      "source": [
        "**ASSIGNMENT (Data Toolkit)**"
      ],
      "metadata": {
        "id": "EaopRoJdGNAc"
      }
    },
    {
      "cell_type": "markdown",
      "source": [
        "- Theory Answers :"
      ],
      "metadata": {
        "id": "q_RiN_TEGVMr"
      }
    },
    {
      "cell_type": "markdown",
      "source": [
        "- Q.1 What is NumPy, and why is it widely used in Python?"
      ],
      "metadata": {
        "id": "1052KdxAGYua"
      }
    },
    {
      "cell_type": "markdown",
      "source": [
        "Ans - NumPy (Numerical Python) is a Python library for numerical computing.\n",
        "It provides:\n",
        "\n",
        "ndarray (N-dimensional arrays) → fast and memory-efficient compared to Python lists.\n",
        "\n",
        "Mathematical functions for linear algebra, Fourier transforms, and statistics.\n",
        "\n",
        "Vectorized operations (performing calculations on entire arrays at once).\n",
        "\n",
        "Integration with libraries like Pandas, Matplotlib, Scikit-learn.\n",
        "\n",
        "It is widely used because it speeds up computation, reduces code complexity, and is the foundation for data science and machine learning in Python."
      ],
      "metadata": {
        "id": "jdcT2T1RGeDN"
      }
    },
    {
      "cell_type": "markdown",
      "source": [
        "- Q.2 How does broadcasting work in NumPy?"
      ],
      "metadata": {
        "id": "N33O2ws8GjAD"
      }
    },
    {
      "cell_type": "markdown",
      "source": [
        "Ans - Broadcasting allows NumPy to perform operations on arrays of different shapes by automatically expanding the smaller array to match the shape of the larger one."
      ],
      "metadata": {
        "id": "fC2pPiBCGoRx"
      }
    },
    {
      "cell_type": "markdown",
      "source": [
        "- Q.3 What is a Pandas DataFrame?"
      ],
      "metadata": {
        "id": "xye6hNCqGrnB"
      }
    },
    {
      "cell_type": "markdown",
      "source": [
        "Ans - A DataFrame is a two-dimensional data structure in Pandas (like an Excel table) with rows and columns.\n",
        "\n",
        "Rows = records (observations).\n",
        "\n",
        "Columns = fields (variables).\n",
        "- It allows data manipulation, filtering, aggregation, and joining easily."
      ],
      "metadata": {
        "id": "_i2bh5I0Gunu"
      }
    },
    {
      "cell_type": "markdown",
      "source": [
        "- Q.4 Explain the use of the groupby() method in Pandas ?"
      ],
      "metadata": {
        "id": "QA_1gO9rGypg"
      }
    },
    {
      "cell_type": "markdown",
      "source": [
        "Ans - groupby() is used to split data into groups, perform operations (like sum, mean, count), and then combine results."
      ],
      "metadata": {
        "id": "pSu74TYMG1zL"
      }
    },
    {
      "cell_type": "markdown",
      "source": [
        "- Q.5 Why is Seaborn preferred for statistical visualizations?"
      ],
      "metadata": {
        "id": "fbPQypvJG4uP"
      }
    },
    {
      "cell_type": "markdown",
      "source": [
        "Ans - Built on Matplotlib but simpler to use.\n",
        "\n",
        "Provides aesthetically pleasing charts with minimal code.\n",
        "\n",
        "Specialized for statistical data → supports boxplot, violin plot, heatmap, pairplot, etc.\n",
        "\n",
        "Handles Pandas DataFrames directly."
      ],
      "metadata": {
        "id": "4Yzovu4cG8Ht"
      }
    },
    {
      "cell_type": "markdown",
      "source": [
        "- Q.6 What are the differences between NumPy arrays and Python lists?"
      ],
      "metadata": {
        "id": "W_NhfSXbG-1l"
      }
    },
    {
      "cell_type": "markdown",
      "source": [
        "Ans - Differences between NumPy Arrays and Python Lists\n",
        "\n",
        "Performance\n",
        "\n",
        "NumPy Arrays are implemented in C and optimized for numerical operations, making them much faster for large datasets.\n",
        "\n",
        "Python Lists are slower because they are general-purpose and not optimized for numerical computations.\n",
        "\n",
        "Memory Efficiency\n",
        "\n",
        "NumPy Arrays use less memory as they store data in a continuous block of memory and support only one data type.\n",
        "\n",
        "Python Lists use more memory since they can store elements of different types, and each element is stored as a separate object.\n",
        "\n",
        "Data Type\n",
        "\n",
        "NumPy Arrays are homogeneous, meaning all elements must be of the same type (e.g., all integers or all floats).\n",
        "\n",
        "Python Lists are heterogeneous, meaning they can store elements of different data types (e.g., integers, strings, floats together).\n",
        "\n",
        "Operations\n",
        "\n",
        "NumPy Arrays support vectorized operations (performing mathematical operations directly on arrays without loops).\n",
        "\n",
        "Python Lists do not support vectorized operations, so mathematical operations need explicit loops or list comprehensions.\n",
        "\n",
        "Multidimensional Support\n",
        "\n",
        "NumPy Arrays natively support multi-dimensional arrays (2D, 3D, etc.), which is essential for data science and machine learning.\n",
        "\n",
        "Python Lists are primarily one-dimensional. To represent multiple dimensions, lists within lists are used, which becomes inefficient and harder to manage.\n",
        "\n",
        "Built-in Functions\n",
        "\n",
        "NumPy provides a rich set of mathematical and statistical functions (e.g., mean, median, standard deviation, matrix operations).\n",
        "\n",
        "Python Lists have only basic operations like append, insert, remove, and do not directly support mathematical computations."
      ],
      "metadata": {
        "id": "k6xAgRmiHCTc"
      }
    },
    {
      "cell_type": "markdown",
      "source": [
        "- Q.7 What is a heatmap, and when should it be used?"
      ],
      "metadata": {
        "id": "F_DCBHBbHEBk"
      }
    },
    {
      "cell_type": "markdown",
      "source": [
        "Ans - A heatmap is a graphical representation of data using colors in a matrix form.\n",
        "- It is used to visualize:\n",
        "\n",
        "Correlation between variables.\n",
        "\n",
        "Frequency/intensity of values.\n",
        "\n",
        "Comparisons across rows/columns."
      ],
      "metadata": {
        "id": "7OvcgsG7HGdO"
      }
    },
    {
      "cell_type": "markdown",
      "source": [
        "- Q.8 hat does the term “vectorized operation” mean in NumPy?"
      ],
      "metadata": {
        "id": "dkxmNlqXHNKT"
      }
    },
    {
      "cell_type": "markdown",
      "source": [
        "Ans - Vectorized operations allow applying operations on entire arrays without explicit loops."
      ],
      "metadata": {
        "id": "OuPP4IGZHQFR"
      }
    },
    {
      "cell_type": "markdown",
      "source": [
        "- Q.9 How does Matplotlib differ from Plotly?"
      ],
      "metadata": {
        "id": "w0DZWl8rHUSP"
      }
    },
    {
      "cell_type": "markdown",
      "source": [
        "Ans - 1. Matplotlib: Static, traditional plots; good for reports/publications.\n",
        "\n",
        "2. Plotly: Interactive plots (zoom, hover, filter); great for dashboards."
      ],
      "metadata": {
        "id": "w0XUcBWXHYu1"
      }
    },
    {
      "cell_type": "markdown",
      "source": [
        "- Q.10 What is the significance of hierarchical indexing in Pandas?"
      ],
      "metadata": {
        "id": "YazTJAfAHcBr"
      }
    },
    {
      "cell_type": "markdown",
      "source": [
        "ANs - Hierarchical indexing allows multiple levels of indexes on rows/columns.\n",
        "- Useful for:\n",
        "\n",
        "Handling multi-dimensional data in 2D tables.\n",
        "\n",
        "Easier grouping and slicing."
      ],
      "metadata": {
        "id": "9lutrMETHfPb"
      }
    },
    {
      "cell_type": "markdown",
      "source": [
        "- Q.11 What is the role of Seaborn’s pairplot() function?"
      ],
      "metadata": {
        "id": "nrzn1jQFHjU2"
      }
    },
    {
      "cell_type": "markdown",
      "source": [
        "Ans - pairplot() creates scatterplots between pairs of variables and histograms/Kernel Density plots for distributions.\n",
        "It helps in exploratory data analysis (EDA) to identify relationships between variables."
      ],
      "metadata": {
        "id": "QNfc4WNFHmnL"
      }
    },
    {
      "cell_type": "markdown",
      "source": [
        "- Q.12 What is the purpose of the describe() function in Pandas?"
      ],
      "metadata": {
        "id": "ntnivi-CHrKE"
      }
    },
    {
      "cell_type": "markdown",
      "source": [
        "Ans - describe() generates summary statistics:\n",
        "\n",
        "Count, mean, std, min, max, quartiles.\n",
        "-  Quick way to understand dataset distribution."
      ],
      "metadata": {
        "id": "TR0EJ1qtHujL"
      }
    },
    {
      "cell_type": "markdown",
      "source": [
        "- Q.13 Why is handling missing data important in Pandas?"
      ],
      "metadata": {
        "id": "MIz9HPUoHyUl"
      }
    },
    {
      "cell_type": "markdown",
      "source": [
        "Ans - Missing data can lead to biased analysis.\n",
        "\n",
        "Many ML models cannot handle NaNs.\n",
        "- Pandas provides methods like dropna(), fillna(), and interpolation to manage it."
      ],
      "metadata": {
        "id": "mNjZvrpZH1Dd"
      }
    },
    {
      "cell_type": "markdown",
      "source": [
        "- Q.14 What are the benefits of using Plotly for data visualization?"
      ],
      "metadata": {
        "id": "3JANJj_0H4aU"
      }
    },
    {
      "cell_type": "markdown",
      "source": [
        "Ans - Interactive dashboards.\n",
        "\n",
        "Supports real-time updates.\n",
        "\n",
        "Works with Python, R, JS.\n",
        "\n",
        "Beautiful and professional-grade charts."
      ],
      "metadata": {
        "id": "j1sWSVSDIAAx"
      }
    },
    {
      "cell_type": "markdown",
      "source": [
        "- Q.15 How does NumPy handle multidimensional arrays?"
      ],
      "metadata": {
        "id": "zYpd2fTrIEzd"
      }
    },
    {
      "cell_type": "markdown",
      "source": [
        "Ans - NumPy supports ndarray → arrays with any number of dimensions.\n",
        "\n",
        "Provides tools like reshape(), transpose(), axis operations for multi-dimensional manipulation"
      ],
      "metadata": {
        "id": "MeK_6JkKIJtJ"
      }
    },
    {
      "cell_type": "markdown",
      "source": [
        "- Q.16 What is the role of Bokeh in data visualization?"
      ],
      "metadata": {
        "id": "J6nQv0yvIMdP"
      }
    },
    {
      "cell_type": "markdown",
      "source": [
        "Ans - Library for interactive visualizations in Python.\n",
        "\n",
        "Outputs to web browsers (HTML/JS).\n",
        "\n",
        "Good for real-time streaming data dashboards."
      ],
      "metadata": {
        "id": "AeeLLAbMIPYE"
      }
    },
    {
      "cell_type": "markdown",
      "source": [
        "- Q.17 Explain the difference between apply() and map() in Pandas ?"
      ],
      "metadata": {
        "id": "p7CavTyiIR_x"
      }
    },
    {
      "cell_type": "markdown",
      "source": [
        "Ans - map() → Works element-wise on a Series.\n",
        "\n",
        "apply() → Can work on both Series and DataFrames; applies function along an axis."
      ],
      "metadata": {
        "id": "yx3DraNKIWOV"
      }
    },
    {
      "cell_type": "markdown",
      "source": [
        "- Q.18 What are some advanced features of NumPy?"
      ],
      "metadata": {
        "id": "gFCwcvZzIbLa"
      }
    },
    {
      "cell_type": "markdown",
      "source": [
        "Ans - Broadcasting\n",
        "\n",
        "Linear algebra operations\n",
        "\n",
        "FFT (Fast Fourier Transform)\n",
        "\n",
        "Random number generation\n",
        "\n",
        "Masking and indexing\n",
        "\n",
        "Memory mapping for large datasets"
      ],
      "metadata": {
        "id": "OVemyk4OIeCj"
      }
    },
    {
      "cell_type": "markdown",
      "source": [
        "- Q.19 How does Pandas simplify time series analysis?"
      ],
      "metadata": {
        "id": "mk0MZg9UIgeh"
      }
    },
    {
      "cell_type": "markdown",
      "source": [
        "Ans - Date/Time parsing with pd.to_datetime()\n",
        "\n",
        "Indexing with DatetimeIndex\n",
        "\n",
        "Resampling (daily, monthly, yearly)\n",
        "\n",
        "Rolling window operations (moving average, trends)."
      ],
      "metadata": {
        "id": "SH5VQ0nNImPs"
      }
    },
    {
      "cell_type": "markdown",
      "source": [
        "- Q.20 What is the role of a pivot table in Pandas?"
      ],
      "metadata": {
        "id": "ZYYR2Mw6Ipop"
      }
    },
    {
      "cell_type": "markdown",
      "source": [
        "Ans - Summarizes and reorganizes data.\n",
        "\n",
        "Similar to Excel pivot tables.\n",
        "\n",
        "Allows aggregation using functions like mean, sum, count."
      ],
      "metadata": {
        "id": "KXmQNRXaIu6X"
      }
    },
    {
      "cell_type": "markdown",
      "source": [
        "- Q.21 Why is NumPy’s array slicing faster than Python’s list slicing?"
      ],
      "metadata": {
        "id": "mYWUkH00Iyoe"
      }
    },
    {
      "cell_type": "markdown",
      "source": [
        "Ans - NumPy uses views (points to original memory) → no data copy.\n",
        "\n",
        "Python lists create new objects during slicing.\n",
        " Hence, NumPy slicing is faster and memory-efficient."
      ],
      "metadata": {
        "id": "PXn7J0ZUI1uB"
      }
    },
    {
      "cell_type": "markdown",
      "source": [
        "- Q.22 What are some common use cases for Seaborn?"
      ],
      "metadata": {
        "id": "4nxszhXNI5Yg"
      }
    },
    {
      "cell_type": "markdown",
      "source": [
        "Ans - Correlation heatmaps\n",
        "\n",
        "Distribution plots (histogram, KDE)\n",
        "\n",
        "Boxplots & Violin plots (outlier detection)\n",
        "\n",
        "Pairplots (EDA)\n",
        "\n",
        "Categorical plots (bar, count, strip plots)"
      ],
      "metadata": {
        "id": "nuThAJChI8Lu"
      }
    },
    {
      "cell_type": "markdown",
      "source": [
        "- **PRACTICAL ANSWERS **"
      ],
      "metadata": {
        "id": "LrMxBwoBI-2r"
      }
    },
    {
      "cell_type": "markdown",
      "source": [
        "- Q.1  How do you create a 2D NumPy array and calculate the sum of each row ?"
      ],
      "metadata": {
        "id": "LohLCn1IJHCT"
      }
    },
    {
      "cell_type": "code",
      "source": [
        "import numpy as np\n",
        "\n",
        "# Create a 2D array\n",
        "arr = np.array([[1, 2, 3],\n",
        "                [4, 5, 6],\n",
        "                [7, 8, 9]])\n",
        "\n",
        "# Sum of each row (axis=1 → row-wise)\n",
        "row_sum = np.sum(arr, axis=1)\n",
        "print(\"Row-wise sum:\", row_sum)"
      ],
      "metadata": {
        "colab": {
          "base_uri": "https://localhost:8080/"
        },
        "id": "XebFLBXZJnQY",
        "outputId": "b1088d34-994e-4d97-9bc1-d23bc5c43e2d"
      },
      "execution_count": 2,
      "outputs": [
        {
          "output_type": "stream",
          "name": "stdout",
          "text": [
            "Row-wise sum: [ 6 15 24]\n"
          ]
        }
      ]
    },
    {
      "cell_type": "markdown",
      "source": [
        "-Q.2 Write a Pandas script to find the mean of a specific column in a DataFrame ?"
      ],
      "metadata": {
        "id": "jBLmiIDAJYDc"
      }
    },
    {
      "cell_type": "code",
      "source": [
        "import pandas as pd\n",
        "\n",
        "# Create sample DataFrame\n",
        "df = pd.DataFrame({\n",
        "    \"Name\": [\"A\", \"B\", \"C\", \"D\"],\n",
        "    \"Score\": [85, 90, 78, 92]\n",
        "})\n",
        "\n",
        "# Mean of Score column\n",
        "print(\"Mean of Score:\", df[\"Score\"].mean())\n"
      ],
      "metadata": {
        "colab": {
          "base_uri": "https://localhost:8080/"
        },
        "id": "QxQGF0sxJhhg",
        "outputId": "16459cca-1ae5-4a76-f199-7603032615d1"
      },
      "execution_count": 1,
      "outputs": [
        {
          "output_type": "stream",
          "name": "stdout",
          "text": [
            "Mean of Score: 86.25\n"
          ]
        }
      ]
    },
    {
      "cell_type": "markdown",
      "source": [
        "- Q.3 Create a scatter plot using Matplotlib ?"
      ],
      "metadata": {
        "id": "3EYuwm-uJot0"
      }
    },
    {
      "cell_type": "code",
      "source": [
        "import matplotlib.pyplot as plt\n",
        "\n",
        "x = [5, 7, 8, 7, 6, 9, 5]\n",
        "y = [99, 86, 87, 88, 100, 86, 103]\n",
        "\n",
        "plt.scatter(x, y, color='blue', marker='o')\n",
        "plt.xlabel(\"X-axis\")\n",
        "plt.ylabel(\"Y-axis\")\n",
        "plt.title(\"Scatter Plot Example\")\n",
        "plt.show()"
      ],
      "metadata": {
        "colab": {
          "base_uri": "https://localhost:8080/",
          "height": 472
        },
        "id": "EH6j6kigJuAO",
        "outputId": "d80ba2c1-f014-4791-e12c-3b7361f6d5b4"
      },
      "execution_count": 3,
      "outputs": [
        {
          "output_type": "display_data",
          "data": {
            "text/plain": [
              "<Figure size 640x480 with 1 Axes>"
            ],
            "image/png": "[encoded data removed]"
          },
          "metadata": {}
        }
      ]
    },
    {
      "cell_type": "markdown",
      "source": [
        "- Q.4 How do you calculate the correlation matrix using Seaborn and visualize it with a heatmap?"
      ],
      "metadata": {
        "id": "iRw-Fh6uJw2S"
      }
    },
    {
      "cell_type": "code",
      "source": [
        "import seaborn as sns\n",
        "import pandas as pd\n",
        "import numpy as np\n",
        "import matplotlib.pyplot as plt\n",
        "\n",
        "# Create random DataFrame\n",
        "data = pd.DataFrame(np.random.randn(5, 3), columns=['A', 'B', 'C'])\n",
        "\n",
        "# Correlation matrix\n",
        "corr = data.corr()\n",
        "\n",
        "# Heatmap\n",
        "sns.heatmap(corr, annot=True, cmap=\"coolwarm\")\n",
        "plt.show()\n"
      ],
      "metadata": {
        "colab": {
          "base_uri": "https://localhost:8080/",
          "height": 435
        },
        "id": "LMYjEiHGJzpV",
        "outputId": "b65097ce-d0d2-4937-f00d-f2030bd98229"
      },
      "execution_count": 4,
      "outputs": [
        {
          "output_type": "display_data",
          "data": {
            "text/plain": [
              "<Figure size 640x480 with 2 Axes>"
            ],
            "image/png": "[encoded data removed]"
          },
          "metadata": {}
        }
      ]
    },
    {
      "cell_type": "markdown",
      "source": [
        "- Q.5  Generate a bar plot using Plotly ?"
      ],
      "metadata": {
        "id": "tiLQRDPWJ2aj"
      }
    },
    {
      "cell_type": "code",
      "source": [
        "import plotly.express as px\n",
        "import pandas as pd\n",
        "\n",
        "# Data\n",
        "df = pd.DataFrame({\"Fruit\": [\"Apple\", \"Banana\", \"Orange\"],\n",
        "                   \"Quantity\": [10, 20, 15]})\n",
        "\n",
        "# Bar plot\n",
        "fig = px.bar(df, x=\"Fruit\", y=\"Quantity\", title=\"Fruit Quantity\")\n",
        "fig.show()\n"
      ],
      "metadata": {
        "colab": {
          "base_uri": "https://localhost:8080/",
          "height": 542
        },
        "id": "82RnChc2J7Uw",
        "outputId": "48d8a55c-6c83-40e0-af6f-fb8eca6d1279"
      },
      "execution_count": 5,
      "outputs": [
        {
          "output_type": "display_data",
          "data": {
            "text/html": [
              "<html>\n",
              "<head><meta charset=\"utf-8\" /></head>\n",
              "<body>\n",
              "    <div>            <script src=\"https://cdnjs.cloudflare.com/ajax/libs/mathjax/2.7.5/MathJax.js?config=TeX-AMS-MML_SVG\"></script><script type=\"text/javascript\">if (window.MathJax && window.MathJax.Hub && window.MathJax.Hub.Config) {window.MathJax.Hub.Config({SVG: {font: \"STIX-Web\"}});}</script>                <script type=\"text/javascript\">window.PlotlyConfig = {MathJaxConfig: 'local'};</script>\n",
              "        <script charset=\"utf-8\" src=\"https://cdn.plot.ly/plotly-2.35.2.min.js\"></script>                <div id=\"57c90143-99f1-4e2e-9c41-8808f77a004f\" class=\"plotly-graph-div\" style=\"height:525px; width:100%;\"></div>            <script type=\"text/javascript\">                                    window.PLOTLYENV=window.PLOTLYENV || {};                                    if (document.getElementById(\"57c90143-99f1-4e2e-9c41-8808f77a004f\")) {                    Plotly.newPlot(                        \"57c90143-99f1-4e2e-9c41-8808f77a004f\",                        [{\"alignmentgroup\":\"True\",\"hovertemplate\":\"Fruit=%{x}\\u003cbr\\u003eQuantity=%{y}\\u003cextra\\u003e\\u003c\\u002fextra\\u003e\",\"legendgroup\":\"\",\"marker\":{\"color\":\"#636efa\",\"pattern\":{\"shape\":\"\"}},\"name\":\"\",\"offsetgroup\":\"\",\"orientation\":\"v\",\"showlegend\":false,\"textposition\":\"auto\",\"x\":[\"Apple\",\"Banana\",\"Orange\"],\"xaxis\":\"x\",\"y\":[10,20,15],\"yaxis\":\"y\",\"type\":\"bar\"}],                        {\"template\":{\"data\":{\"histogram2dcontour\":[{\"type\":\"histogram2dcontour\",\"colorbar\":{\"outlinewidth\":0,\"ticks\":\"\"},\"colorscale\":[[0.0,\"#0d0887\"],[0.1111111111111111,\"#46039f\"],[0.2222222222222222,\"#7201a8\"],[0.3333333333333333,\"#9c179e\"],[0.4444444444444444,\"#bd3786\"],[0.5555555555555556,\"#d8576b\"],[0.6666666666666666,\"#ed7953\"],[0.7777777777777778,\"#fb9f3a\"],[0.8888888888888888,\"#fdca26\"],[1.0,\"#f0f921\"]]}],\"choropleth\":[{\"type\":\"choropleth\",\"colorbar\":{\"outlinewidth\":0,\"ticks\":\"\"}}],\"histogram2d\":[{\"type\":\"histogram2d\",\"colorbar\":{\"outlinewidth\":0,\"ticks\":\"\"},\"colorscale\":[[0.0,\"#0d0887\"],[0.1111111111111111,\"#46039f\"],[0.2222222222222222,\"#7201a8\"],[0.3333333333333333,\"#9c179e\"],[0.4444444444444444,\"#bd3786\"],[0.5555555555555556,\"#d8576b\"],[0.6666666666666666,\"#ed7953\"],[0.7777777777777778,\"#fb9f3a\"],[0.8888888888888888,\"#fdca26\"],[1.0,\"#f0f921\"]]}],\"heatmap\":[{\"type\":\"heatmap\",\"colorbar\":{\"outlinewidth\":0,\"ticks\":\"\"},\"colorscale\":[[0.0,\"#0d0887\"],[0.1111111111111111,\"#46039f\"],[0.2222222222222222,\"#7201a8\"],[0.3333333333333333,\"#9c179e\"],[0.4444444444444444,\"#bd3786\"],[0.5555555555555556,\"#d8576b\"],[0.6666666666666666,\"#ed7953\"],[0.7777777777777778,\"#fb9f3a\"],[0.8888888888888888,\"#fdca26\"],[1.0,\"#f0f921\"]]}],\"heatmapgl\":[{\"type\":\"heatmapgl\",\"colorbar\":{\"outlinewidth\":0,\"ticks\":\"\"},\"colorscale\":[[0.0,\"#0d0887\"],[0.1111111111111111,\"#46039f\"],[0.2222222222222222,\"#7201a8\"],[0.3333333333333333,\"#9c179e\"],[0.4444444444444444,\"#bd3786\"],[0.5555555555555556,\"#d8576b\"],[0.6666666666666666,\"#ed7953\"],[0.7777777777777778,\"#fb9f3a\"],[0.8888888888888888,\"#fdca26\"],[1.0,\"#f0f921\"]]}],\"contourcarpet\":[{\"type\":\"contourcarpet\",\"colorbar\":{\"outlinewidth\":0,\"ticks\":\"\"}}],\"contour\":[{\"type\":\"contour\",\"colorbar\":{\"outlinewidth\":0,\"ticks\":\"\"},\"colorscale\":[[0.0,\"#0d0887\"],[0.1111111111111111,\"#46039f\"],[0.2222222222222222,\"#7201a8\"],[0.3333333333333333,\"#9c179e\"],[0.4444444444444444,\"#bd3786\"],[0.5555555555555556,\"#d8576b\"],[0.6666666666666666,\"#ed7953\"],[0.7777777777777778,\"#fb9f3a\"],[0.8888888888888888,\"#fdca26\"],[1.0,\"#f0f921\"]]}],\"surface\":[{\"type\":\"surface\",\"colorbar\":{\"outlinewidth\":0,\"ticks\":\"\"},\"colorscale\":[[0.0,\"#0d0887\"],[0.1111111111111111,\"#46039f\"],[0.2222222222222222,\"#7201a8\"],[0.3333333333333333,\"#9c179e\"],[0.4444444444444444,\"#bd3786\"],[0.5555555555555556,\"#d8576b\"],[0.6666666666666666,\"#ed7953\"],[0.7777777777777778,\"#fb9f3a\"],[0.8888888888888888,\"#fdca26\"],[1.0,\"#f0f921\"]]}],\"mesh3d\":[{\"type\":\"mesh3d\",\"colorbar\":{\"outlinewidth\":0,\"ticks\":\"\"}}],\"scatter\":[{\"fillpattern\":{\"fillmode\":\"overlay\",\"size\":10,\"solidity\":0.2},\"type\":\"scatter\"}],\"parcoords\":[{\"type\":\"parcoords\",\"line\":{\"colorbar\":{\"outlinewidth\":0,\"ticks\":\"\"}}}],\"scatterpolargl\":[{\"type\":\"scatterpolargl\",\"marker\":{\"colorbar\":{\"outlinewidth\":0,\"ticks\":\"\"}}}],\"bar\":[{\"error_x\":{\"color\":\"#2a3f5f\"},\"error_y\":{\"color\":\"#2a3f5f\"},\"marker\":{\"line\":{\"color\":\"#E5ECF6\",\"width\":0.5},\"pattern\":{\"fillmode\":\"overlay\",\"size\":10,\"solidity\":0.2}},\"type\":\"bar\"}],\"scattergeo\":[{\"type\":\"scattergeo\",\"marker\":{\"colorbar\":{\"outlinewidth\":0,\"ticks\":\"\"}}}],\"scatterpolar\":[{\"type\":\"scatterpolar\",\"marker\":{\"colorbar\":{\"outlinewidth\":0,\"ticks\":\"\"}}}],\"histogram\":[{\"marker\":{\"pattern\":{\"fillmode\":\"overlay\",\"size\":10,\"solidity\":0.2}},\"type\":\"histogram\"}],\"scattergl\":[{\"type\":\"scattergl\",\"marker\":{\"colorbar\":{\"outlinewidth\":0,\"ticks\":\"\"}}}],\"scatter3d\":[{\"type\":\"scatter3d\",\"line\":{\"colorbar\":{\"outlinewidth\":0,\"ticks\":\"\"}},\"marker\":{\"colorbar\":{\"outlinewidth\":0,\"ticks\":\"\"}}}],\"scattermapbox\":[{\"type\":\"scattermapbox\",\"marker\":{\"colorbar\":{\"outlinewidth\":0,\"ticks\":\"\"}}}],\"scatterternary\":[{\"type\":\"scatterternary\",\"marker\":{\"colorbar\":{\"outlinewidth\":0,\"ticks\":\"\"}}}],\"scattercarpet\":[{\"type\":\"scattercarpet\",\"marker\":{\"colorbar\":{\"outlinewidth\":0,\"ticks\":\"\"}}}],\"carpet\":[{\"aaxis\":{\"endlinecolor\":\"#2a3f5f\",\"gridcolor\":\"white\",\"linecolor\":\"white\",\"minorgridcolor\":\"white\",\"startlinecolor\":\"#2a3f5f\"},\"baxis\":{\"endlinecolor\":\"#2a3f5f\",\"gridcolor\":\"white\",\"linecolor\":\"white\",\"minorgridcolor\":\"white\",\"startlinecolor\":\"#2a3f5f\"},\"type\":\"carpet\"}],\"table\":[{\"cells\":{\"fill\":{\"color\":\"#EBF0F8\"},\"line\":{\"color\":\"white\"}},\"header\":{\"fill\":{\"color\":\"#C8D4E3\"},\"line\":{\"color\":\"white\"}},\"type\":\"table\"}],\"barpolar\":[{\"marker\":{\"line\":{\"color\":\"#E5ECF6\",\"width\":0.5},\"pattern\":{\"fillmode\":\"overlay\",\"size\":10,\"solidity\":0.2}},\"type\":\"barpolar\"}],\"pie\":[{\"automargin\":true,\"type\":\"pie\"}]},\"layout\":{\"autotypenumbers\":\"strict\",\"colorway\":[\"#636efa\",\"#EF553B\",\"#00cc96\",\"#ab63fa\",\"#FFA15A\",\"#19d3f3\",\"#FF6692\",\"#B6E880\",\"#FF97FF\",\"#FECB52\"],\"font\":{\"color\":\"#2a3f5f\"},\"hovermode\":\"closest\",\"hoverlabel\":{\"align\":\"left\"},\"paper_bgcolor\":\"white\",\"plot_bgcolor\":\"#E5ECF6\",\"polar\":{\"bgcolor\":\"#E5ECF6\",\"angularaxis\":{\"gridcolor\":\"white\",\"linecolor\":\"white\",\"ticks\":\"\"},\"radialaxis\":{\"gridcolor\":\"white\",\"linecolor\":\"white\",\"ticks\":\"\"}},\"ternary\":{\"bgcolor\":\"#E5ECF6\",\"aaxis\":{\"gridcolor\":\"white\",\"linecolor\":\"white\",\"ticks\":\"\"},\"baxis\":{\"gridcolor\":\"white\",\"linecolor\":\"white\",\"ticks\":\"\"},\"caxis\":{\"gridcolor\":\"white\",\"linecolor\":\"white\",\"ticks\":\"\"}},\"coloraxis\":{\"colorbar\":{\"outlinewidth\":0,\"ticks\":\"\"}},\"colorscale\":{\"sequential\":[[0.0,\"#0d0887\"],[0.1111111111111111,\"#46039f\"],[0.2222222222222222,\"#7201a8\"],[0.3333333333333333,\"#9c179e\"],[0.4444444444444444,\"#bd3786\"],[0.5555555555555556,\"#d8576b\"],[0.6666666666666666,\"#ed7953\"],[0.7777777777777778,\"#fb9f3a\"],[0.8888888888888888,\"#fdca26\"],[1.0,\"#f0f921\"]],\"sequentialminus\":[[0.0,\"#0d0887\"],[0.1111111111111111,\"#46039f\"],[0.2222222222222222,\"#7201a8\"],[0.3333333333333333,\"#9c179e\"],[0.4444444444444444,\"#bd3786\"],[0.5555555555555556,\"#d8576b\"],[0.6666666666666666,\"#ed7953\"],[0.7777777777777778,\"#fb9f3a\"],[0.8888888888888888,\"#fdca26\"],[1.0,\"#f0f921\"]],\"diverging\":[[0,\"#8e0152\"],[0.1,\"#c51b7d\"],[0.2,\"#de77ae\"],[0.3,\"#f1b6da\"],[0.4,\"#fde0ef\"],[0.5,\"#f7f7f7\"],[0.6,\"#e6f5d0\"],[0.7,\"#b8e186\"],[0.8,\"#7fbc41\"],[0.9,\"#4d9221\"],[1,\"#276419\"]]},\"xaxis\":{\"gridcolor\":\"white\",\"linecolor\":\"white\",\"ticks\":\"\",\"title\":{\"standoff\":15},\"zerolinecolor\":\"white\",\"automargin\":true,\"zerolinewidth\":2},\"yaxis\":{\"gridcolor\":\"white\",\"linecolor\":\"white\",\"ticks\":\"\",\"title\":{\"standoff\":15},\"zerolinecolor\":\"white\",\"automargin\":true,\"zerolinewidth\":2},\"scene\":{\"xaxis\":{\"backgroundcolor\":\"#E5ECF6\",\"gridcolor\":\"white\",\"linecolor\":\"white\",\"showbackground\":true,\"ticks\":\"\",\"zerolinecolor\":\"white\",\"gridwidth\":2},\"yaxis\":{\"backgroundcolor\":\"#E5ECF6\",\"gridcolor\":\"white\",\"linecolor\":\"white\",\"showbackground\":true,\"ticks\":\"\",\"zerolinecolor\":\"white\",\"gridwidth\":2},\"zaxis\":{\"backgroundcolor\":\"#E5ECF6\",\"gridcolor\":\"white\",\"linecolor\":\"white\",\"showbackground\":true,\"ticks\":\"\",\"zerolinecolor\":\"white\",\"gridwidth\":2}},\"shapedefaults\":{\"line\":{\"color\":\"#2a3f5f\"}},\"annotationdefaults\":{\"arrowcolor\":\"#2a3f5f\",\"arrowhead\":0,\"arrowwidth\":1},\"geo\":{\"bgcolor\":\"white\",\"landcolor\":\"#E5ECF6\",\"subunitcolor\":\"white\",\"showland\":true,\"showlakes\":true,\"lakecolor\":\"white\"},\"title\":{\"x\":0.05},\"mapbox\":{\"style\":\"light\"}}},\"xaxis\":{\"anchor\":\"y\",\"domain\":[0.0,1.0],\"title\":{\"text\":\"Fruit\"}},\"yaxis\":{\"anchor\":\"x\",\"domain\":[0.0,1.0],\"title\":{\"text\":\"Quantity\"}},\"legend\":{\"tracegroupgap\":0},\"title\":{\"text\":\"Fruit Quantity\"},\"barmode\":\"relative\"},                        {\"responsive\": true}                    ).then(function(){\n",
              "                            \n",
              "var gd = document.getElementById('57c90143-99f1-4e2e-9c41-8808f77a004f');\n",
              "var x = new MutationObserver(function (mutations, observer) {{\n",
              "        var display = window.getComputedStyle(gd).display;\n",
              "        if (!display || display === 'none') {{\n",
              "            console.log([gd, 'removed!']);\n",
              "            Plotly.purge(gd);\n",
              "            observer.disconnect();\n",
              "        }}\n",
              "}});\n",
              "\n",
              "// Listen for the removal of the full notebook cells\n",
              "var notebookContainer = gd.closest('#notebook-container');\n",
              "if (notebookContainer) {{\n",
              "    x.observe(notebookContainer, {childList: true});\n",
              "}}\n",
              "\n",
              "// Listen for the clearing of the current output cell\n",
              "var outputEl = gd.closest('.output');\n",
              "if (outputEl) {{\n",
              "    x.observe(outputEl, {childList: true});\n",
              "}}\n",
              "\n",
              "                        })                };                            </script>        </div>\n",
              "</body>\n",
              "</html>"
            ]
          },
          "metadata": {}
        }
      ]
    },
    {
      "cell_type": "markdown",
      "source": [
        "- Q. 6 Create a DataFrame and add a new column based on an existing column ?"
      ],
      "metadata": {
        "id": "5Rh7t_6kJ-aN"
      }
    },
    {
      "cell_type": "code",
      "source": [
        "import pandas as pd\n",
        "\n",
        "# Create DataFrame\n",
        "df = pd.DataFrame({\"Name\": [\"A\", \"B\", \"C\"], \"Marks\": [50, 80, 90]})\n",
        "\n",
        "# Add new column (Pass/Fail)\n",
        "df[\"Result\"] = df[\"Marks\"].apply(lambda x: \"Pass\" if x >= 60 else \"Fail\")\n",
        "print(df)\n"
      ],
      "metadata": {
        "colab": {
          "base_uri": "https://localhost:8080/"
        },
        "id": "zSd6-6P7KB1E",
        "outputId": "a6a867a1-612e-41d4-f3ee-f59e49862f0f"
      },
      "execution_count": 6,
      "outputs": [
        {
          "output_type": "stream",
          "name": "stdout",
          "text": [
            "  Name  Marks Result\n",
            "0    A     50   Fail\n",
            "1    B     80   Pass\n",
            "2    C     90   Pass\n"
          ]
        }
      ]
    },
    {
      "cell_type": "markdown",
      "source": [
        "- Q.7 Write a program to perform element-wise multiplication of two NumPy arrays ?"
      ],
      "metadata": {
        "id": "4qrII6GoKD3B"
      }
    },
    {
      "cell_type": "code",
      "source": [
        "import numpy as np\n",
        "\n",
        "a = np.array([1, 2, 3])\n",
        "b = np.array([4, 5, 6])\n",
        "\n",
        "result = a * b  # Element-wise multiplication\n",
        "print(\"Result:\", result)\n"
      ],
      "metadata": {
        "colab": {
          "base_uri": "https://localhost:8080/"
        },
        "id": "zt7PB3pNKHIn",
        "outputId": "f8f0df03-db9a-4a06-e243-8d507e74536f"
      },
      "execution_count": 7,
      "outputs": [
        {
          "output_type": "stream",
          "name": "stdout",
          "text": [
            "Result: [ 4 10 18]\n"
          ]
        }
      ]
    },
    {
      "cell_type": "markdown",
      "source": [
        "- Q.8 Create a line plot with multiple lines using Matplotlib ?"
      ],
      "metadata": {
        "id": "dlmganWcKI-p"
      }
    },
    {
      "cell_type": "code",
      "source": [
        "import matplotlib.pyplot as plt\n",
        "\n",
        "x = [1, 2, 3, 4, 5]\n",
        "y1 = [2, 4, 6, 8, 10]\n",
        "y2 = [1, 2, 3, 4, 5]\n",
        "\n",
        "plt.plot(x, y1, label=\"Line 1\", color=\"blue\")\n",
        "plt.plot(x, y2, label=\"Line 2\", color=\"red\")\n",
        "plt.xlabel(\"X-axis\")\n",
        "plt.ylabel(\"Y-axis\")\n",
        "plt.title(\"Multiple Line Plot\")\n",
        "plt.legend()\n",
        "plt.show()\n"
      ],
      "metadata": {
        "colab": {
          "base_uri": "https://localhost:8080/",
          "height": 472
        },
        "id": "NUe3_nufKMV1",
        "outputId": "f9c8e73c-d14d-429d-c674-7ac9f4719b3a"
      },
      "execution_count": 8,
      "outputs": [
        {
          "output_type": "display_data",
          "data": {
            "text/plain": [
              "<Figure size 640x480 with 1 Axes>"
            ],
            "image/png": "[encoded data removed]"
          },
          "metadata": {}
        }
      ]
    },
    {
      "cell_type": "markdown",
      "source": [
        "- Q.9 Generate a Pandas DataFrame and filter rows where a column value is greater than a threshold ?"
      ],
      "metadata": {
        "id": "xCJ5GNHtKPJm"
      }
    },
    {
      "cell_type": "code",
      "source": [
        "import pandas as pd\n",
        "\n",
        "# DataFrame\n",
        "df = pd.DataFrame({\"Name\": [\"A\", \"B\", \"C\", \"D\"],\n",
        "                   \"Age\": [23, 35, 19, 42]})\n",
        "\n",
        "# Filter rows where Age > 30\n",
        "filtered = df[df[\"Age\"] > 30]\n",
        "print(filtered)\n"
      ],
      "metadata": {
        "colab": {
          "base_uri": "https://localhost:8080/"
        },
        "id": "w2btZWoFKSSl",
        "outputId": "d29b8fea-68ab-41c3-fbe5-084eb101846c"
      },
      "execution_count": 9,
      "outputs": [
        {
          "output_type": "stream",
          "name": "stdout",
          "text": [
            "  Name  Age\n",
            "1    B   35\n",
            "3    D   42\n"
          ]
        }
      ]
    },
    {
      "cell_type": "markdown",
      "source": [
        "- Q.10 Create a histogram using Seaborn to visualize a distribution ?"
      ],
      "metadata": {
        "id": "2FMALaEDKT9r"
      }
    },
    {
      "cell_type": "code",
      "source": [
        "import seaborn as sns\n",
        "import matplotlib.pyplot as plt\n",
        "\n",
        "data = [1, 2, 2, 3, 3, 3, 4, 4, 5, 5, 5, 5]\n",
        "\n",
        "sns.histplot(data, bins=5, kde=True, color=\"purple\")\n",
        "plt.title(\"Histogram Example\")\n",
        "plt.show()\n"
      ],
      "metadata": {
        "colab": {
          "base_uri": "https://localhost:8080/",
          "height": 452
        },
        "id": "g4TcNYhYKXBB",
        "outputId": "cf0e798c-2a39-4b4a-84d9-df488e4fb916"
      },
      "execution_count": 10,
      "outputs": [
        {
          "output_type": "display_data",
          "data": {
            "text/plain": [
              "<Figure size 640x480 with 1 Axes>"
            ],
            "image/png": "[encoded data removed]"
          },
          "metadata": {}
        }
      ]
    },
    {
      "cell_type": "markdown",
      "source": [
        "- Q.11 Perform matrix multiplication using NumPy ?"
      ],
      "metadata": {
        "id": "pilEdGCXKa7Z"
      }
    },
    {
      "cell_type": "code",
      "source": [
        "import numpy as np\n",
        "\n",
        "A = np.array([[1, 2], [3, 4]])\n",
        "B = np.array([[5, 6], [7, 8]])\n",
        "\n",
        "result = np.dot(A, B)  # or A @ B\n",
        "print(\"Matrix Multiplication:\\n\", result)\n"
      ],
      "metadata": {
        "colab": {
          "base_uri": "https://localhost:8080/"
        },
        "id": "vXmZqZ6jKeFW",
        "outputId": "b4ce72b1-982a-42cc-cea3-807a7d33c740"
      },
      "execution_count": 11,
      "outputs": [
        {
          "output_type": "stream",
          "name": "stdout",
          "text": [
            "Matrix Multiplication:\n",
            " [[19 22]\n",
            " [43 50]]\n"
          ]
        }
      ]
    },
    {
      "cell_type": "markdown",
      "source": [
        "- Q.12 . Use Pandas to load a CSV file and display its first 5 rows ?"
      ],
      "metadata": {
        "id": "pcLHSsTWKfw_"
      }
    },
    {
      "cell_type": "code",
      "source": [
        "import pandas as pd\n",
        "\n",
        "# Load CSV (replace 'data.csv' with your file path)\n",
        "df = pd.read_csv(\"data.csv\")\n",
        "\n",
        "print(df.head())  # first 5 rows\n"
      ],
      "metadata": {
        "id": "3Tkfl4-2KpWM"
      },
      "execution_count": null,
      "outputs": []
    },
    {
      "cell_type": "markdown",
      "source": [
        "- Q.13 Create a 3D scatter plot using Plotly ?"
      ],
      "metadata": {
        "id": "RTX1UFW2KqII"
      }
    },
    {
      "cell_type": "code",
      "source": [
        "import plotly.express as px\n",
        "import pandas as pd\n",
        "\n",
        "# Create sample data\n",
        "df = pd.DataFrame({\n",
        "    \"X\": [1, 2, 3, 4, 5],\n",
        "    \"Y\": [10, 11, 12, 13, 14],\n",
        "    \"Z\": [5, 6, 7, 8, 9],\n",
        "    \"Category\": [\"A\", \"B\", \"A\", \"B\", \"A\"]\n",
        "})\n",
        "\n",
        "# 3D scatter plot\n",
        "fig = px.scatter_3d(df, x=\"X\", y=\"Y\", z=\"Z\", color=\"Category\")\n",
        "fig.show()\n"
      ],
      "metadata": {
        "colab": {
          "base_uri": "https://localhost:8080/",
          "height": 542
        },
        "id": "qEixymc4Ktmx",
        "outputId": "29fe325f-a727-4b8c-b0ca-0c589e3cb3d9"
      },
      "execution_count": 13,
      "outputs": [
        {
          "output_type": "display_data",
          "data": {
            "text/html": [
              "<html>\n",
              "<head><meta charset=\"utf-8\" /></head>\n",
              "<body>\n",
              "    <div>            <script src=\"https://cdnjs.cloudflare.com/ajax/libs/mathjax/2.7.5/MathJax.js?config=TeX-AMS-MML_SVG\"></script><script type=\"text/javascript\">if (window.MathJax && window.MathJax.Hub && window.MathJax.Hub.Config) {window.MathJax.Hub.Config({SVG: {font: \"STIX-Web\"}});}</script>                <script type=\"text/javascript\">window.PlotlyConfig = {MathJaxConfig: 'local'};</script>\n",
              "        <script charset=\"utf-8\" src=\"https://cdn.plot.ly/plotly-2.35.2.min.js\"></script>                <div id=\"2a19f9d7-d5f8-4c17-83a9-4d6372abec3f\" class=\"plotly-graph-div\" style=\"height:525px; width:100%;\"></div>            <script type=\"text/javascript\">                                    window.PLOTLYENV=window.PLOTLYENV || {};                                    if (document.getElementById(\"2a19f9d7-d5f8-4c17-83a9-4d6372abec3f\")) {                    Plotly.newPlot(                        \"2a19f9d7-d5f8-4c17-83a9-4d6372abec3f\",                        [{\"hovertemplate\":\"Category=A\\u003cbr\\u003eX=%{x}\\u003cbr\\u003eY=%{y}\\u003cbr\\u003eZ=%{z}\\u003cextra\\u003e\\u003c\\u002fextra\\u003e\",\"legendgroup\":\"A\",\"marker\":{\"color\":\"#636efa\",\"symbol\":\"circle\"},\"mode\":\"markers\",\"name\":\"A\",\"scene\":\"scene\",\"showlegend\":true,\"x\":[1,3,5],\"y\":[10,12,14],\"z\":[5,7,9],\"type\":\"scatter3d\"},{\"hovertemplate\":\"Category=B\\u003cbr\\u003eX=%{x}\\u003cbr\\u003eY=%{y}\\u003cbr\\u003eZ=%{z}\\u003cextra\\u003e\\u003c\\u002fextra\\u003e\",\"legendgroup\":\"B\",\"marker\":{\"color\":\"#EF553B\",\"symbol\":\"circle\"},\"mode\":\"markers\",\"name\":\"B\",\"scene\":\"scene\",\"showlegend\":true,\"x\":[2,4],\"y\":[11,13],\"z\":[6,8],\"type\":\"scatter3d\"}],                        {\"template\":{\"data\":{\"histogram2dcontour\":[{\"type\":\"histogram2dcontour\",\"colorbar\":{\"outlinewidth\":0,\"ticks\":\"\"},\"colorscale\":[[0.0,\"#0d0887\"],[0.1111111111111111,\"#46039f\"],[0.2222222222222222,\"#7201a8\"],[0.3333333333333333,\"#9c179e\"],[0.4444444444444444,\"#bd3786\"],[0.5555555555555556,\"#d8576b\"],[0.6666666666666666,\"#ed7953\"],[0.7777777777777778,\"#fb9f3a\"],[0.8888888888888888,\"#fdca26\"],[1.0,\"#f0f921\"]]}],\"choropleth\":[{\"type\":\"choropleth\",\"colorbar\":{\"outlinewidth\":0,\"ticks\":\"\"}}],\"histogram2d\":[{\"type\":\"histogram2d\",\"colorbar\":{\"outlinewidth\":0,\"ticks\":\"\"},\"colorscale\":[[0.0,\"#0d0887\"],[0.1111111111111111,\"#46039f\"],[0.2222222222222222,\"#7201a8\"],[0.3333333333333333,\"#9c179e\"],[0.4444444444444444,\"#bd3786\"],[0.5555555555555556,\"#d8576b\"],[0.6666666666666666,\"#ed7953\"],[0.7777777777777778,\"#fb9f3a\"],[0.8888888888888888,\"#fdca26\"],[1.0,\"#f0f921\"]]}],\"heatmap\":[{\"type\":\"heatmap\",\"colorbar\":{\"outlinewidth\":0,\"ticks\":\"\"},\"colorscale\":[[0.0,\"#0d0887\"],[0.1111111111111111,\"#46039f\"],[0.2222222222222222,\"#7201a8\"],[0.3333333333333333,\"#9c179e\"],[0.4444444444444444,\"#bd3786\"],[0.5555555555555556,\"#d8576b\"],[0.6666666666666666,\"#ed7953\"],[0.7777777777777778,\"#fb9f3a\"],[0.8888888888888888,\"#fdca26\"],[1.0,\"#f0f921\"]]}],\"heatmapgl\":[{\"type\":\"heatmapgl\",\"colorbar\":{\"outlinewidth\":0,\"ticks\":\"\"},\"colorscale\":[[0.0,\"#0d0887\"],[0.1111111111111111,\"#46039f\"],[0.2222222222222222,\"#7201a8\"],[0.3333333333333333,\"#9c179e\"],[0.4444444444444444,\"#bd3786\"],[0.5555555555555556,\"#d8576b\"],[0.6666666666666666,\"#ed7953\"],[0.7777777777777778,\"#fb9f3a\"],[0.8888888888888888,\"#fdca26\"],[1.0,\"#f0f921\"]]}],\"contourcarpet\":[{\"type\":\"contourcarpet\",\"colorbar\":{\"outlinewidth\":0,\"ticks\":\"\"}}],\"contour\":[{\"type\":\"contour\",\"colorbar\":{\"outlinewidth\":0,\"ticks\":\"\"},\"colorscale\":[[0.0,\"#0d0887\"],[0.1111111111111111,\"#46039f\"],[0.2222222222222222,\"#7201a8\"],[0.3333333333333333,\"#9c179e\"],[0.4444444444444444,\"#bd3786\"],[0.5555555555555556,\"#d8576b\"],[0.6666666666666666,\"#ed7953\"],[0.7777777777777778,\"#fb9f3a\"],[0.8888888888888888,\"#fdca26\"],[1.0,\"#f0f921\"]]}],\"surface\":[{\"type\":\"surface\",\"colorbar\":{\"outlinewidth\":0,\"ticks\":\"\"},\"colorscale\":[[0.0,\"#0d0887\"],[0.1111111111111111,\"#46039f\"],[0.2222222222222222,\"#7201a8\"],[0.3333333333333333,\"#9c179e\"],[0.4444444444444444,\"#bd3786\"],[0.5555555555555556,\"#d8576b\"],[0.6666666666666666,\"#ed7953\"],[0.7777777777777778,\"#fb9f3a\"],[0.8888888888888888,\"#fdca26\"],[1.0,\"#f0f921\"]]}],\"mesh3d\":[{\"type\":\"mesh3d\",\"colorbar\":{\"outlinewidth\":0,\"ticks\":\"\"}}],\"scatter\":[{\"fillpattern\":{\"fillmode\":\"overlay\",\"size\":10,\"solidity\":0.2},\"type\":\"scatter\"}],\"parcoords\":[{\"type\":\"parcoords\",\"line\":{\"colorbar\":{\"outlinewidth\":0,\"ticks\":\"\"}}}],\"scatterpolargl\":[{\"type\":\"scatterpolargl\",\"marker\":{\"colorbar\":{\"outlinewidth\":0,\"ticks\":\"\"}}}],\"bar\":[{\"error_x\":{\"color\":\"#2a3f5f\"},\"error_y\":{\"color\":\"#2a3f5f\"},\"marker\":{\"line\":{\"color\":\"#E5ECF6\",\"width\":0.5},\"pattern\":{\"fillmode\":\"overlay\",\"size\":10,\"solidity\":0.2}},\"type\":\"bar\"}],\"scattergeo\":[{\"type\":\"scattergeo\",\"marker\":{\"colorbar\":{\"outlinewidth\":0,\"ticks\":\"\"}}}],\"scatterpolar\":[{\"type\":\"scatterpolar\",\"marker\":{\"colorbar\":{\"outlinewidth\":0,\"ticks\":\"\"}}}],\"histogram\":[{\"marker\":{\"pattern\":{\"fillmode\":\"overlay\",\"size\":10,\"solidity\":0.2}},\"type\":\"histogram\"}],\"scattergl\":[{\"type\":\"scattergl\",\"marker\":{\"colorbar\":{\"outlinewidth\":0,\"ticks\":\"\"}}}],\"scatter3d\":[{\"type\":\"scatter3d\",\"line\":{\"colorbar\":{\"outlinewidth\":0,\"ticks\":\"\"}},\"marker\":{\"colorbar\":{\"outlinewidth\":0,\"ticks\":\"\"}}}],\"scattermapbox\":[{\"type\":\"scattermapbox\",\"marker\":{\"colorbar\":{\"outlinewidth\":0,\"ticks\":\"\"}}}],\"scatterternary\":[{\"type\":\"scatterternary\",\"marker\":{\"colorbar\":{\"outlinewidth\":0,\"ticks\":\"\"}}}],\"scattercarpet\":[{\"type\":\"scattercarpet\",\"marker\":{\"colorbar\":{\"outlinewidth\":0,\"ticks\":\"\"}}}],\"carpet\":[{\"aaxis\":{\"endlinecolor\":\"#2a3f5f\",\"gridcolor\":\"white\",\"linecolor\":\"white\",\"minorgridcolor\":\"white\",\"startlinecolor\":\"#2a3f5f\"},\"baxis\":{\"endlinecolor\":\"#2a3f5f\",\"gridcolor\":\"white\",\"linecolor\":\"white\",\"minorgridcolor\":\"white\",\"startlinecolor\":\"#2a3f5f\"},\"type\":\"carpet\"}],\"table\":[{\"cells\":{\"fill\":{\"color\":\"#EBF0F8\"},\"line\":{\"color\":\"white\"}},\"header\":{\"fill\":{\"color\":\"#C8D4E3\"},\"line\":{\"color\":\"white\"}},\"type\":\"table\"}],\"barpolar\":[{\"marker\":{\"line\":{\"color\":\"#E5ECF6\",\"width\":0.5},\"pattern\":{\"fillmode\":\"overlay\",\"size\":10,\"solidity\":0.2}},\"type\":\"barpolar\"}],\"pie\":[{\"automargin\":true,\"type\":\"pie\"}]},\"layout\":{\"autotypenumbers\":\"strict\",\"colorway\":[\"#636efa\",\"#EF553B\",\"#00cc96\",\"#ab63fa\",\"#FFA15A\",\"#19d3f3\",\"#FF6692\",\"#B6E880\",\"#FF97FF\",\"#FECB52\"],\"font\":{\"color\":\"#2a3f5f\"},\"hovermode\":\"closest\",\"hoverlabel\":{\"align\":\"left\"},\"paper_bgcolor\":\"white\",\"plot_bgcolor\":\"#E5ECF6\",\"polar\":{\"bgcolor\":\"#E5ECF6\",\"angularaxis\":{\"gridcolor\":\"white\",\"linecolor\":\"white\",\"ticks\":\"\"},\"radialaxis\":{\"gridcolor\":\"white\",\"linecolor\":\"white\",\"ticks\":\"\"}},\"ternary\":{\"bgcolor\":\"#E5ECF6\",\"aaxis\":{\"gridcolor\":\"white\",\"linecolor\":\"white\",\"ticks\":\"\"},\"baxis\":{\"gridcolor\":\"white\",\"linecolor\":\"white\",\"ticks\":\"\"},\"caxis\":{\"gridcolor\":\"white\",\"linecolor\":\"white\",\"ticks\":\"\"}},\"coloraxis\":{\"colorbar\":{\"outlinewidth\":0,\"ticks\":\"\"}},\"colorscale\":{\"sequential\":[[0.0,\"#0d0887\"],[0.1111111111111111,\"#46039f\"],[0.2222222222222222,\"#7201a8\"],[0.3333333333333333,\"#9c179e\"],[0.4444444444444444,\"#bd3786\"],[0.5555555555555556,\"#d8576b\"],[0.6666666666666666,\"#ed7953\"],[0.7777777777777778,\"#fb9f3a\"],[0.8888888888888888,\"#fdca26\"],[1.0,\"#f0f921\"]],\"sequentialminus\":[[0.0,\"#0d0887\"],[0.1111111111111111,\"#46039f\"],[0.2222222222222222,\"#7201a8\"],[0.3333333333333333,\"#9c179e\"],[0.4444444444444444,\"#bd3786\"],[0.5555555555555556,\"#d8576b\"],[0.6666666666666666,\"#ed7953\"],[0.7777777777777778,\"#fb9f3a\"],[0.8888888888888888,\"#fdca26\"],[1.0,\"#f0f921\"]],\"diverging\":[[0,\"#8e0152\"],[0.1,\"#c51b7d\"],[0.2,\"#de77ae\"],[0.3,\"#f1b6da\"],[0.4,\"#fde0ef\"],[0.5,\"#f7f7f7\"],[0.6,\"#e6f5d0\"],[0.7,\"#b8e186\"],[0.8,\"#7fbc41\"],[0.9,\"#4d9221\"],[1,\"#276419\"]]},\"xaxis\":{\"gridcolor\":\"white\",\"linecolor\":\"white\",\"ticks\":\"\",\"title\":{\"standoff\":15},\"zerolinecolor\":\"white\",\"automargin\":true,\"zerolinewidth\":2},\"yaxis\":{\"gridcolor\":\"white\",\"linecolor\":\"white\",\"ticks\":\"\",\"title\":{\"standoff\":15},\"zerolinecolor\":\"white\",\"automargin\":true,\"zerolinewidth\":2},\"scene\":{\"xaxis\":{\"backgroundcolor\":\"#E5ECF6\",\"gridcolor\":\"white\",\"linecolor\":\"white\",\"showbackground\":true,\"ticks\":\"\",\"zerolinecolor\":\"white\",\"gridwidth\":2},\"yaxis\":{\"backgroundcolor\":\"#E5ECF6\",\"gridcolor\":\"white\",\"linecolor\":\"white\",\"showbackground\":true,\"ticks\":\"\",\"zerolinecolor\":\"white\",\"gridwidth\":2},\"zaxis\":{\"backgroundcolor\":\"#E5ECF6\",\"gridcolor\":\"white\",\"linecolor\":\"white\",\"showbackground\":true,\"ticks\":\"\",\"zerolinecolor\":\"white\",\"gridwidth\":2}},\"shapedefaults\":{\"line\":{\"color\":\"#2a3f5f\"}},\"annotationdefaults\":{\"arrowcolor\":\"#2a3f5f\",\"arrowhead\":0,\"arrowwidth\":1},\"geo\":{\"bgcolor\":\"white\",\"landcolor\":\"#E5ECF6\",\"subunitcolor\":\"white\",\"showland\":true,\"showlakes\":true,\"lakecolor\":\"white\"},\"title\":{\"x\":0.05},\"mapbox\":{\"style\":\"light\"}}},\"scene\":{\"domain\":{\"x\":[0.0,1.0],\"y\":[0.0,1.0]},\"xaxis\":{\"title\":{\"text\":\"X\"}},\"yaxis\":{\"title\":{\"text\":\"Y\"}},\"zaxis\":{\"title\":{\"text\":\"Z\"}}},\"legend\":{\"title\":{\"text\":\"Category\"},\"tracegroupgap\":0},\"margin\":{\"t\":60}},                        {\"responsive\": true}                    ).then(function(){\n",
              "                            \n",
              "var gd = document.getElementById('2a19f9d7-d5f8-4c17-83a9-4d6372abec3f');\n",
              "var x = new MutationObserver(function (mutations, observer) {{\n",
              "        var display = window.getComputedStyle(gd).display;\n",
              "        if (!display || display === 'none') {{\n",
              "            console.log([gd, 'removed!']);\n",
              "            Plotly.purge(gd);\n",
              "            observer.disconnect();\n",
              "        }}\n",
              "}});\n",
              "\n",
              "// Listen for the removal of the full notebook cells\n",
              "var notebookContainer = gd.closest('#notebook-container');\n",
              "if (notebookContainer) {{\n",
              "    x.observe(notebookContainer, {childList: true});\n",
              "}}\n",
              "\n",
              "// Listen for the clearing of the current output cell\n",
              "var outputEl = gd.closest('.output');\n",
              "if (outputEl) {{\n",
              "    x.observe(outputEl, {childList: true});\n",
              "}}\n",
              "\n",
              "                        })                };                            </script>        </div>\n",
              "</body>\n",
              "</html>"
            ]
          },
          "metadata": {}
        }
      ]
    }
  ]
}